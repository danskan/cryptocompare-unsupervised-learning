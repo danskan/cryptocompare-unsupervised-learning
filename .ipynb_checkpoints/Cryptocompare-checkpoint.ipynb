{
 "cells": [
  {
   "cell_type": "code",
   "execution_count": 1,
   "id": "594b4d5a",
   "metadata": {},
   "outputs": [
    {
     "name": "stdout",
     "output_type": "stream",
     "text": [
      "Requirement already satisfied: sklearn in c:\\users\\dskan\\anaconda3\\lib\\site-packages (0.0)\n",
      "Requirement already satisfied: scikit-learn in c:\\users\\dskan\\anaconda3\\lib\\site-packages (from sklearn) (0.24.2)\n",
      "Requirement already satisfied: threadpoolctl>=2.0.0 in c:\\users\\dskan\\anaconda3\\lib\\site-packages (from scikit-learn->sklearn) (2.2.0)\n",
      "Requirement already satisfied: scipy>=0.19.1 in c:\\users\\dskan\\anaconda3\\lib\\site-packages (from scikit-learn->sklearn) (1.7.1)\n",
      "Requirement already satisfied: numpy>=1.13.3 in c:\\users\\dskan\\anaconda3\\lib\\site-packages (from scikit-learn->sklearn) (1.20.3)\n",
      "Requirement already satisfied: joblib>=0.11 in c:\\users\\dskan\\anaconda3\\lib\\site-packages (from scikit-learn->sklearn) (1.1.0)\n"
     ]
    }
   ],
   "source": [
    "!pip install sklearn"
   ]
  },
  {
   "cell_type": "code",
   "execution_count": 38,
   "id": "72d90752",
   "metadata": {},
   "outputs": [],
   "source": [
    "import pandas as pd\n",
    "from path import Path\n",
    "from sklearn.preprocessing import StandardScaler\n",
    "from sklearn.decomposition import PCA\n",
    "from sklearn.manifold import TSNE\n",
    "from sklearn.cluster import KMeans\n",
    "import matplotlib.pyplot as plt"
   ]
  },
  {
   "cell_type": "code",
   "execution_count": 39,
   "id": "ff213bdb",
   "metadata": {},
   "outputs": [],
   "source": [
    "# read in file\n",
    "file = Path('crypto_data.csv')"
   ]
  },
  {
   "cell_type": "code",
   "execution_count": 40,
   "id": "b8dc840c",
   "metadata": {},
   "outputs": [
    {
     "data": {
      "text/html": [
       "<div>\n",
       "<style scoped>\n",
       "    .dataframe tbody tr th:only-of-type {\n",
       "        vertical-align: middle;\n",
       "    }\n",
       "\n",
       "    .dataframe tbody tr th {\n",
       "        vertical-align: top;\n",
       "    }\n",
       "\n",
       "    .dataframe thead th {\n",
       "        text-align: right;\n",
       "    }\n",
       "</style>\n",
       "<table border=\"1\" class=\"dataframe\">\n",
       "  <thead>\n",
       "    <tr style=\"text-align: right;\">\n",
       "      <th></th>\n",
       "      <th>CoinName</th>\n",
       "      <th>Algorithm</th>\n",
       "      <th>IsTrading</th>\n",
       "      <th>ProofType</th>\n",
       "      <th>TotalCoinsMined</th>\n",
       "      <th>TotalCoinSupply</th>\n",
       "    </tr>\n",
       "  </thead>\n",
       "  <tbody>\n",
       "    <tr>\n",
       "      <th>42</th>\n",
       "      <td>42 Coin</td>\n",
       "      <td>Scrypt</td>\n",
       "      <td>True</td>\n",
       "      <td>PoW/PoS</td>\n",
       "      <td>41.999954</td>\n",
       "      <td>42</td>\n",
       "    </tr>\n",
       "    <tr>\n",
       "      <th>365</th>\n",
       "      <td>365Coin</td>\n",
       "      <td>X11</td>\n",
       "      <td>True</td>\n",
       "      <td>PoW/PoS</td>\n",
       "      <td>NaN</td>\n",
       "      <td>2300000000</td>\n",
       "    </tr>\n",
       "  </tbody>\n",
       "</table>\n",
       "</div>"
      ],
      "text/plain": [
       "    CoinName Algorithm  IsTrading ProofType  TotalCoinsMined TotalCoinSupply\n",
       "42   42 Coin    Scrypt       True   PoW/PoS        41.999954              42\n",
       "365  365Coin       X11       True   PoW/PoS              NaN      2300000000"
      ]
     },
     "execution_count": 40,
     "metadata": {},
     "output_type": "execute_result"
    }
   ],
   "source": [
    "#convert file to df\n",
    "df = pd.read_csv(file, index_col=0)\n",
    "df.head(2)"
   ]
  },
  {
   "cell_type": "code",
   "execution_count": 41,
   "id": "fa505386",
   "metadata": {},
   "outputs": [
    {
     "name": "stdout",
     "output_type": "stream",
     "text": [
      "{'Lyra2Z', 'PHI1612', 'YescryptR16', 'CryptoNight-Lite', '1GB AES Pattern Search', 'Argon2d', 'ScryptOG', 'XEVAN', 'SHA3-256', 'Exosis', 'SHA-256', 'X16R', 'CryptoNight', 'Lyra2RE', 'Ouroboros', 'X16S', 'Stanford Folding', 'SHA-256 + Hive', 'X13', 'PHI2', 'Ethash', 'Rainforest', 'Proof-of-Authority', 'X15', 'CryptoNight-lite', 'Multiple', 'Avesta hash', 'Wild Keccak', 'Dagger-Hashimoto', 'Skein', 'Tribus', 'Momentum', 'X11', 'QuBit', 'NeoScrypt', 'Scrypt-n', 'Scrypt', 'M00N', 'Quark', 'Counterparty', 'CryptoNight-V7', 'Progressive-n', 'Equihash', 'QuarkTX', 'Curve25519', 'Zhash', 'BLAKE256', 'X11GOST', 'SHA3', 'Proof-of-BibleHash', 'Time Travel', 'Blake2b', 'HybridScryptHash256', 'TRC10', 'CryptoNight Heavy X', 'ECC 256K1', 'HMQ1725', 'Lyra2REv2', 'X14', 'Equihash1927', 'Equihash+Scrypt', 'IMesh', 'VBFT', '536', 'Leased POS', 'NIST5', 'XG Hash', 'Shabal256', 'Green Protocol', 'T-Inside', 'SkunkHash', 'Argon2', 'Groestl', 'Dagger', 'SHA-256D', 'QUAIT', 'Keccak', 'Blake2S', 'SHA-512', 'POS 2.0', 'Slatechain', 'C11', 'Jump Consistent Hash', 'VeChainThor Authority', 'DPoS', 'POS 3.0', 'Cryptonight-GPU', 'CryptoNight Heavy', 'PoS', 'Semux BFT consensus', 'M7 POW', 'SkunkHash v2 Raptor', 'Blake', 'vDPOS', 'Cloverhash'}\n"
     ]
    }
   ],
   "source": [
    "#print algorithms\n",
    "algorithms = set(df.Algorithm.values)\n",
    "print(algorithms)"
   ]
  },
  {
   "cell_type": "code",
   "execution_count": 42,
   "id": "a19ed430",
   "metadata": {},
   "outputs": [
    {
     "data": {
      "text/plain": [
       "True     1144\n",
       "False     108\n",
       "Name: IsTrading, dtype: int64"
      ]
     },
     "execution_count": 42,
     "metadata": {},
     "output_type": "execute_result"
    }
   ],
   "source": [
    "#find out how many are not actively trading\n",
    "df['IsTrading'].value_counts()"
   ]
  },
  {
   "cell_type": "code",
   "execution_count": 43,
   "id": "b744b63c",
   "metadata": {},
   "outputs": [
    {
     "data": {
      "text/plain": [
       "True     1144\n",
       "False     108\n",
       "Name: IsTrading, dtype: int64"
      ]
     },
     "execution_count": 43,
     "metadata": {},
     "output_type": "execute_result"
    }
   ],
   "source": [
    "#locate untraded coins\n",
    "df.loc[df[\"IsTrading\"]==True]\n",
    "df[\"IsTrading\"].value_counts()"
   ]
  },
  {
   "cell_type": "code",
   "execution_count": 44,
   "id": "c549cd0c",
   "metadata": {},
   "outputs": [
    {
     "data": {
      "text/html": [
       "<div>\n",
       "<style scoped>\n",
       "    .dataframe tbody tr th:only-of-type {\n",
       "        vertical-align: middle;\n",
       "    }\n",
       "\n",
       "    .dataframe tbody tr th {\n",
       "        vertical-align: top;\n",
       "    }\n",
       "\n",
       "    .dataframe thead th {\n",
       "        text-align: right;\n",
       "    }\n",
       "</style>\n",
       "<table border=\"1\" class=\"dataframe\">\n",
       "  <thead>\n",
       "    <tr style=\"text-align: right;\">\n",
       "      <th></th>\n",
       "      <th>CoinName</th>\n",
       "      <th>Algorithm</th>\n",
       "      <th>ProofType</th>\n",
       "      <th>TotalCoinsMined</th>\n",
       "      <th>TotalCoinSupply</th>\n",
       "    </tr>\n",
       "  </thead>\n",
       "  <tbody>\n",
       "    <tr>\n",
       "      <th>42</th>\n",
       "      <td>42 Coin</td>\n",
       "      <td>Scrypt</td>\n",
       "      <td>PoW/PoS</td>\n",
       "      <td>41.999954</td>\n",
       "      <td>42</td>\n",
       "    </tr>\n",
       "    <tr>\n",
       "      <th>365</th>\n",
       "      <td>365Coin</td>\n",
       "      <td>X11</td>\n",
       "      <td>PoW/PoS</td>\n",
       "      <td>NaN</td>\n",
       "      <td>2300000000</td>\n",
       "    </tr>\n",
       "  </tbody>\n",
       "</table>\n",
       "</div>"
      ],
      "text/plain": [
       "    CoinName Algorithm ProofType  TotalCoinsMined TotalCoinSupply\n",
       "42   42 Coin    Scrypt   PoW/PoS        41.999954              42\n",
       "365  365Coin       X11   PoW/PoS              NaN      2300000000"
      ]
     },
     "execution_count": 44,
     "metadata": {},
     "output_type": "execute_result"
    }
   ],
   "source": [
    "# drop untraded coins from df\n",
    "trading_df = df.drop(\"IsTrading\", axis=1)\n",
    "trading_df.head(2)"
   ]
  },
  {
   "cell_type": "code",
   "execution_count": 45,
   "id": "0f490169",
   "metadata": {},
   "outputs": [
    {
     "data": {
      "text/plain": [
       "(744, 5)"
      ]
     },
     "execution_count": 45,
     "metadata": {},
     "output_type": "execute_result"
    }
   ],
   "source": [
    "# see how many rows and columns are left\n",
    "nan_trading_df = trading_df.dropna(axis=0, how=\"any\")\n",
    "nan_trading_df.shape"
   ]
  },
  {
   "cell_type": "code",
   "execution_count": 46,
   "id": "27d8ede0",
   "metadata": {},
   "outputs": [
    {
     "data": {
      "text/plain": [
       "FIII   -5.917978e+09\n",
       "ZSE     0.000000e+00\n",
       "SPA     0.000000e+00\n",
       "SRC     0.000000e+00\n",
       "ERY     0.000000e+00\n",
       "            ...     \n",
       "QWC     9.955311e+10\n",
       "NYC     1.430067e+11\n",
       "GCN     1.630551e+11\n",
       "BCN     1.840668e+11\n",
       "BTT     9.899887e+11\n",
       "Name: TotalCoinsMined, Length: 744, dtype: float64"
      ]
     },
     "execution_count": 46,
     "metadata": {},
     "output_type": "execute_result"
    }
   ],
   "source": [
    "# plot Mined Coins in ascending order\n",
    "nan_trading_df.TotalCoinsMined.sort_values()"
   ]
  },
  {
   "cell_type": "code",
   "execution_count": 47,
   "id": "d87b2b6f",
   "metadata": {},
   "outputs": [
    {
     "data": {
      "text/plain": [
       "577"
      ]
     },
     "execution_count": 47,
     "metadata": {},
     "output_type": "execute_result"
    }
   ],
   "source": [
    "# drop any coins with zero trades\n",
    "pos_trading_df = nan_trading_df[nan_trading_df[\"TotalCoinsMined\"]>0]\n",
    "len(pos_trading_df)"
   ]
  },
  {
   "cell_type": "code",
   "execution_count": 48,
   "id": "a0258bde",
   "metadata": {},
   "outputs": [
    {
     "data": {
      "text/html": [
       "<div>\n",
       "<style scoped>\n",
       "    .dataframe tbody tr th:only-of-type {\n",
       "        vertical-align: middle;\n",
       "    }\n",
       "\n",
       "    .dataframe tbody tr th {\n",
       "        vertical-align: top;\n",
       "    }\n",
       "\n",
       "    .dataframe thead th {\n",
       "        text-align: right;\n",
       "    }\n",
       "</style>\n",
       "<table border=\"1\" class=\"dataframe\">\n",
       "  <thead>\n",
       "    <tr style=\"text-align: right;\">\n",
       "      <th></th>\n",
       "      <th>Algorithm</th>\n",
       "      <th>ProofType</th>\n",
       "      <th>TotalCoinsMined</th>\n",
       "      <th>TotalCoinSupply</th>\n",
       "    </tr>\n",
       "  </thead>\n",
       "  <tbody>\n",
       "    <tr>\n",
       "      <th>42</th>\n",
       "      <td>Scrypt</td>\n",
       "      <td>PoW/PoS</td>\n",
       "      <td>4.199995e+01</td>\n",
       "      <td>42</td>\n",
       "    </tr>\n",
       "    <tr>\n",
       "      <th>404</th>\n",
       "      <td>Scrypt</td>\n",
       "      <td>PoW/PoS</td>\n",
       "      <td>1.055185e+09</td>\n",
       "      <td>532000000</td>\n",
       "    </tr>\n",
       "  </tbody>\n",
       "</table>\n",
       "</div>"
      ],
      "text/plain": [
       "    Algorithm ProofType  TotalCoinsMined TotalCoinSupply\n",
       "42     Scrypt   PoW/PoS     4.199995e+01              42\n",
       "404    Scrypt   PoW/PoS     1.055185e+09       532000000"
      ]
     },
     "execution_count": 48,
     "metadata": {},
     "output_type": "execute_result"
    }
   ],
   "source": [
    "# drop Coin Names\n",
    "pos_cleaned_df = pos_trading_df.drop(\"CoinName\", axis=1)\n",
    "pos_cleaned_df.head(2)"
   ]
  },
  {
   "cell_type": "code",
   "execution_count": 49,
   "id": "41e06cd4",
   "metadata": {},
   "outputs": [
    {
     "name": "stdout",
     "output_type": "stream",
     "text": [
      "(577, 101)\n"
     ]
    },
    {
     "data": {
      "text/html": [
       "<div>\n",
       "<style scoped>\n",
       "    .dataframe tbody tr th:only-of-type {\n",
       "        vertical-align: middle;\n",
       "    }\n",
       "\n",
       "    .dataframe tbody tr th {\n",
       "        vertical-align: top;\n",
       "    }\n",
       "\n",
       "    .dataframe thead th {\n",
       "        text-align: right;\n",
       "    }\n",
       "</style>\n",
       "<table border=\"1\" class=\"dataframe\">\n",
       "  <thead>\n",
       "    <tr style=\"text-align: right;\">\n",
       "      <th></th>\n",
       "      <th>TotalCoinsMined</th>\n",
       "      <th>TotalCoinSupply</th>\n",
       "      <th>Algorithm_1GB AES Pattern Search</th>\n",
       "      <th>Algorithm_536</th>\n",
       "      <th>Algorithm_Argon2d</th>\n",
       "      <th>Algorithm_BLAKE256</th>\n",
       "      <th>Algorithm_Blake</th>\n",
       "      <th>Algorithm_Blake2S</th>\n",
       "      <th>Algorithm_Blake2b</th>\n",
       "      <th>Algorithm_C11</th>\n",
       "      <th>...</th>\n",
       "      <th>ProofType_PoW/PoS</th>\n",
       "      <th>ProofType_PoW/PoS</th>\n",
       "      <th>ProofType_PoW/PoW</th>\n",
       "      <th>ProofType_PoW/nPoS</th>\n",
       "      <th>ProofType_Pos</th>\n",
       "      <th>ProofType_Proof of Authority</th>\n",
       "      <th>ProofType_Proof of Trust</th>\n",
       "      <th>ProofType_TPoS</th>\n",
       "      <th>ProofType_Zero-Knowledge Proof</th>\n",
       "      <th>ProofType_dPoW/PoW</th>\n",
       "    </tr>\n",
       "  </thead>\n",
       "  <tbody>\n",
       "    <tr>\n",
       "      <th>42</th>\n",
       "      <td>4.199995e+01</td>\n",
       "      <td>42</td>\n",
       "      <td>0</td>\n",
       "      <td>0</td>\n",
       "      <td>0</td>\n",
       "      <td>0</td>\n",
       "      <td>0</td>\n",
       "      <td>0</td>\n",
       "      <td>0</td>\n",
       "      <td>0</td>\n",
       "      <td>...</td>\n",
       "      <td>1</td>\n",
       "      <td>0</td>\n",
       "      <td>0</td>\n",
       "      <td>0</td>\n",
       "      <td>0</td>\n",
       "      <td>0</td>\n",
       "      <td>0</td>\n",
       "      <td>0</td>\n",
       "      <td>0</td>\n",
       "      <td>0</td>\n",
       "    </tr>\n",
       "    <tr>\n",
       "      <th>404</th>\n",
       "      <td>1.055185e+09</td>\n",
       "      <td>532000000</td>\n",
       "      <td>0</td>\n",
       "      <td>0</td>\n",
       "      <td>0</td>\n",
       "      <td>0</td>\n",
       "      <td>0</td>\n",
       "      <td>0</td>\n",
       "      <td>0</td>\n",
       "      <td>0</td>\n",
       "      <td>...</td>\n",
       "      <td>1</td>\n",
       "      <td>0</td>\n",
       "      <td>0</td>\n",
       "      <td>0</td>\n",
       "      <td>0</td>\n",
       "      <td>0</td>\n",
       "      <td>0</td>\n",
       "      <td>0</td>\n",
       "      <td>0</td>\n",
       "      <td>0</td>\n",
       "    </tr>\n",
       "  </tbody>\n",
       "</table>\n",
       "<p>2 rows × 101 columns</p>\n",
       "</div>"
      ],
      "text/plain": [
       "     TotalCoinsMined TotalCoinSupply  Algorithm_1GB AES Pattern Search  \\\n",
       "42      4.199995e+01              42                                 0   \n",
       "404     1.055185e+09       532000000                                 0   \n",
       "\n",
       "     Algorithm_536  Algorithm_Argon2d  Algorithm_BLAKE256  Algorithm_Blake  \\\n",
       "42               0                  0                   0                0   \n",
       "404              0                  0                   0                0   \n",
       "\n",
       "     Algorithm_Blake2S  Algorithm_Blake2b  Algorithm_C11  ...  \\\n",
       "42                   0                  0              0  ...   \n",
       "404                  0                  0              0  ...   \n",
       "\n",
       "     ProofType_PoW/PoS  ProofType_PoW/PoS   ProofType_PoW/PoW  \\\n",
       "42                   1                   0                  0   \n",
       "404                  1                   0                  0   \n",
       "\n",
       "     ProofType_PoW/nPoS  ProofType_Pos  ProofType_Proof of Authority  \\\n",
       "42                    0              0                             0   \n",
       "404                   0              0                             0   \n",
       "\n",
       "     ProofType_Proof of Trust  ProofType_TPoS  ProofType_Zero-Knowledge Proof  \\\n",
       "42                          0               0                               0   \n",
       "404                         0               0                               0   \n",
       "\n",
       "     ProofType_dPoW/PoW  \n",
       "42                    0  \n",
       "404                   0  \n",
       "\n",
       "[2 rows x 101 columns]"
      ]
     },
     "execution_count": 49,
     "metadata": {},
     "output_type": "execute_result"
    }
   ],
   "source": [
    "# one hot encode Algorithms and Proof Types\n",
    "X_dummy = pd.get_dummies(data=pos_cleaned_df, columns=[\"Algorithm\", \"ProofType\"])\n",
    "print(X_dummy.shape)\n",
    "X_dummy.head(2)"
   ]
  },
  {
   "cell_type": "code",
   "execution_count": 50,
   "id": "19c8cbea",
   "metadata": {},
   "outputs": [],
   "source": [
    "# scale the data\n",
    "x_scaled = StandardScaler().fit_transform(X_dummy)"
   ]
  },
  {
   "cell_type": "code",
   "execution_count": 51,
   "id": "ff95c239",
   "metadata": {},
   "outputs": [
    {
     "name": "stdout",
     "output_type": "stream",
     "text": [
      "[[-0.11450078 -0.15072489 -0.04166667 ... -0.04166667 -0.04166667\n",
      "  -0.04166667]\n",
      " [-0.09041991 -0.14255828 -0.04166667 ... -0.04166667 -0.04166667\n",
      "  -0.04166667]\n",
      " [ 0.55369883  4.67185916 -0.04166667 ... -0.04166667 -0.04166667\n",
      "  -0.04166667]\n",
      " ...\n",
      " [-0.11433426 -0.15040252 -0.04166667 ... -0.04166667 -0.04166667\n",
      "  -0.04166667]\n",
      " [-0.11449785 -0.15070954 -0.04166667 ... -0.04166667 -0.04166667\n",
      "  -0.04166667]\n",
      " [-0.11401032 -0.14918981 -0.04166667 ... -0.04166667 -0.04166667\n",
      "  -0.04166667]]\n"
     ]
    }
   ],
   "source": [
    "#print scaled data\n",
    "print(x_scaled)"
   ]
  },
  {
   "cell_type": "code",
   "execution_count": 52,
   "id": "6acf9e6a",
   "metadata": {},
   "outputs": [
    {
     "data": {
      "text/plain": [
       "(577, 89)"
      ]
     },
     "execution_count": 52,
     "metadata": {},
     "output_type": "execute_result"
    }
   ],
   "source": [
    "# reduce the dimensions with PCA\n",
    "pca = PCA(n_components=0.99)\n",
    "princ_components = pca.fit_transform(x_scaled)\n",
    "princ_components.shape"
   ]
  },
  {
   "cell_type": "code",
   "execution_count": 53,
   "id": "0cc62ae3",
   "metadata": {},
   "outputs": [
    {
     "data": {
      "text/plain": [
       "100.3373916705553"
      ]
     },
     "execution_count": 53,
     "metadata": {},
     "output_type": "execute_result"
    }
   ],
   "source": [
    "pca.explained_variance_.sum()"
   ]
  },
  {
   "cell_type": "code",
   "execution_count": 54,
   "id": "4afca475",
   "metadata": {},
   "outputs": [
    {
     "data": {
      "text/plain": [
       "(577, 77)"
      ]
     },
     "execution_count": 54,
     "metadata": {},
     "output_type": "execute_result"
    }
   ],
   "source": [
    "# alternate PCA reduction method\n",
    "pca = PCA(n_components=0.90)\n",
    "princ_components = pca.fit_transform(x_scaled)\n",
    "princ_components.shape"
   ]
  },
  {
   "cell_type": "code",
   "execution_count": 55,
   "id": "edf2e519",
   "metadata": {},
   "outputs": [
    {
     "data": {
      "text/plain": [
       "91.40146737803633"
      ]
     },
     "execution_count": 55,
     "metadata": {},
     "output_type": "execute_result"
    }
   ],
   "source": [
    "pca.explained_variance_.sum()"
   ]
  },
  {
   "cell_type": "code",
   "execution_count": 56,
   "id": "8b238107",
   "metadata": {},
   "outputs": [
    {
     "data": {
      "text/plain": [
       "(577, 2)"
      ]
     },
     "execution_count": 56,
     "metadata": {},
     "output_type": "execute_result"
    }
   ],
   "source": [
    "# reduce dimensions with TSNE\n",
    "tsne1 = TSNE(learning_rate = 38, perplexity=50)\n",
    "tsne1Features = tsne1.fit_transform(princ_components)\n",
    "tsne1Features.shape"
   ]
  },
  {
   "cell_type": "code",
   "execution_count": 62,
   "id": "e7c56cf1",
   "metadata": {},
   "outputs": [
    {
     "data": {
      "image/png": "[encoded data removed]",
      "text/plain": [
       "<Figure size 432x288 with 1 Axes>"
      ]
     },
     "metadata": {
      "needs_background": "light"
     },
     "output_type": "display_data"
    }
   ],
   "source": [
    "#plot and look for clusters\n",
    "\n",
    "x_value = tsne1Features[:,0]\n",
    "y_value = tsne1Features[:,1]\n",
    "plt.scatter(x_value, y_value)\n",
    "plt.show()"
   ]
  },
  {
   "cell_type": "markdown",
   "id": "00270faf",
   "metadata": {},
   "source": [
    "# No clusters were found in above plot using PCA and TSNE"
   ]
  },
  {
   "cell_type": "code",
   "execution_count": 63,
   "id": "e88a9bc0",
   "metadata": {},
   "outputs": [
    {
     "name": "stderr",
     "output_type": "stream",
     "text": [
      "C:\\Users\\dskan\\anaconda3\\lib\\site-packages\\sklearn\\cluster\\_kmeans.py:881: UserWarning: KMeans is known to have a memory leak on Windows with MKL, when there are less chunks than available threads. You can avoid it by setting the environment variable OMP_NUM_THREADS=3.\n",
      "  warnings.warn(\n"
     ]
    }
   ],
   "source": [
    "# attempt to find clusters using nearest neighbor method\n",
    "inertia = []\n",
    "k = [1,2,3,4,5,6,7,8,9,10]\n",
    "for value in k:\n",
    "    kmeans = KMeans(n_clusters = value, random_state=0)\n",
    "    kmeans.fit(princ_components)\n",
    "    inertia.append(kmeans.inertia_)\n",
    "    "
   ]
  },
  {
   "cell_type": "code",
   "execution_count": 65,
   "id": "5be00025",
   "metadata": {},
   "outputs": [
    {
     "data": {
      "image/png": "[encoded data removed]",
      "text/plain": [
       "<Figure size 432x288 with 1 Axes>"
      ]
     },
     "metadata": {
      "needs_background": "light"
     },
     "output_type": "display_data"
    }
   ],
   "source": [
    "# Plot nearest neighbors elbow plot\n",
    "elbowPlot = pd.DataFrame({\"K\": k, \"Inertia\": inertia})\n",
    "elbowPlot.plot.line(x=\"K\", y=\"Inertia\")\n",
    "plt.ylabel(\"Inertia\")\n",
    "plt.xlabel(\"K Values\")\n",
    "plt.title(\"Elbow Plot\")\n",
    "plt.show()"
   ]
  },
  {
   "cell_type": "markdown",
   "id": "06d0b046",
   "metadata": {},
   "source": [
    "# The above plot shows no real inflection points. Based on this, this dataset of crypto currencies are not clustered in any meaningful way"
   ]
  }
 ],
 "metadata": {
  "kernelspec": {
   "display_name": "Python 3 (ipykernel)",
   "language": "python",
   "name": "python3"
  },
  "language_info": {
   "codemirror_mode": {
    "name": "ipython",
    "version": 3
   },
   "file_extension": ".py",
   "mimetype": "text/x-python",
   "name": "python",
   "nbconvert_exporter": "python",
   "pygments_lexer": "ipython3",
   "version": "3.9.7"
  }
 },
 "nbformat": 4,
 "nbformat_minor": 5
}
